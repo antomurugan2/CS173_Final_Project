{
 "cells": [
  {
   "cell_type": "markdown",
   "metadata": {},
   "source": [
    "# CS173: Natural Language Processing - Final Project\n",
    "Name: Anto Murugan<br>\n",
    "SID: 862154748<br>\n",
    "Project: Story generation<br>\n",
    "Data acquired from: https://www.kaggle.com/revanth9/wikipediaplotdata"
   ]
  },
  {
   "cell_type": "code",
   "execution_count": 1,
   "metadata": {},
   "outputs": [],
   "source": [
    "import tensorflow as tf\n",
    "from tensorflow.keras.preprocessing.sequence import pad_sequences\n",
    "from tensorflow.keras.layers import Embedding, LSTM, Dense, Bidirectional\n",
    "from tensorflow.keras.preprocessing.text import Tokenizer\n",
    "from tensorflow.keras.models import Sequential\n",
    "from tensorflow.keras.optimizers import Adam\n",
    "import numpy as np"
   ]
  },
  {
   "cell_type": "code",
   "execution_count": 2,
   "metadata": {},
   "outputs": [
    {
     "name": "stdout",
     "output_type": "stream",
     "text": [
      "5835\n"
     ]
    }
   ],
   "source": [
    "tokenizer = Tokenizer()\n",
    "stories = open(\"stories.txt\").read()\n",
    "corpus = stories.lower().split(\"\\n\")\n",
    "tokenizer.fit_on_texts(corpus)\n",
    "total_words = len(tokenizer.word_index) + 1\n",
    "print(total_words)"
   ]
  },
  {
   "cell_type": "code",
   "execution_count": 3,
   "metadata": {},
   "outputs": [
    {
     "name": "stdout",
     "output_type": "stream",
     "text": [
      "[1, 59, 2677, 18, 4, 200]\n",
      "[1, 59, 2677, 18, 4, 200, 5, 2678, 165, 745]\n"
     ]
    }
   ],
   "source": [
    "input_sequences = []\n",
    "for line in corpus:\n",
    "    token_list = tokenizer.texts_to_sequences([line])[0]\n",
    "    for i in range(1, len(token_list)):\n",
    "        n_gram_sequence = token_list[:i+3]\n",
    "        input_sequences.append(n_gram_sequence)\n",
    "        \n",
    "print(input_sequences[2])\n",
    "print(input_sequences[6])"
   ]
  },
  {
   "cell_type": "code",
   "execution_count": 4,
   "metadata": {},
   "outputs": [
    {
     "name": "stdout",
     "output_type": "stream",
     "text": [
      "[   0    0    0    0    0    0    0    0    0    0    0    0    0    0\n",
      "    0    0    0    0    0    0    0    0    0    0    0    0    0    0\n",
      "    0    0    0    0    0    0    0    0    0    0    0    0    0    0\n",
      "    0    0    0    0    0    0    0    0    0    0    0    0    0    0\n",
      "    0    0    0    0    0    0    0    0    0    0    0    0    0    0\n",
      "    0    0    0    0    0    0    0    0    0    0    0    0    0    0\n",
      "    0    0    0    0    0    0    0    0    0    0    0    0    0    0\n",
      "    0    0    0    0    0    0    0    0    0    0    0    0    0    0\n",
      "    0    0    0    0    0    0    0    0    0    0    0    0    0    0\n",
      "    0    0    0    0    0    0    0    0    0    0    0    0    0    0\n",
      "    0    0    0    0    0    0    0    0    0    0    0    0    0    0\n",
      "    0    0    0    0    0    0    0    0    0    0    0    0    0    0\n",
      "    0    0    0    0    0    0    0    0    0    0    0    0    0    0\n",
      "    0    0    0    0    0    0    0    0    0    0    0    0    0    0\n",
      "    0    0    0    0    0    0    0    0    0    0    0    0    0    0\n",
      "    0    0    0    0    0    0    0    0    0    0    0    0    0    0\n",
      "    0    0    0    0    0    0    0    0    0    0    0    0    0    0\n",
      "    0    0    0    0    0    0    0    0    0    0    0    0    0    0\n",
      "    0    0    0    0    0    0    0    0    0    0    0    0    0    0\n",
      "    0    0    0    0    0    0    0    0    0    1   59 2677   18    4\n",
      "  200]\n",
      "[   0    0    0    0    0    0    0    0    0    0    0    0    0    0\n",
      "    0    0    0    0    0    0    0    0    0    0    0    0    0    0\n",
      "    0    0    0    0    0    0    0    0    0    0    0    0    0    0\n",
      "    0    0    0    0    0    0    0    0    0    0    0    0    0    0\n",
      "    0    0    0    0    0    0    0    0    0    0    0    0    0    0\n",
      "    0    0    0    0    0    0    0    0    0    0    0    0    0    0\n",
      "    0    0    0    0    0    0    0    0    0    0    0    0    0    0\n",
      "    0    0    0    0    0    0    0    0    0    0    0    0    0    0\n",
      "    0    0    0    0    0    0    0    0    0    0    0    0    0    0\n",
      "    0    0    0    0    0    0    0    0    0    0    0    0    0    0\n",
      "    0    0    0    0    0    0    0    0    0    0    0    0    0    0\n",
      "    0    0    0    0    0    0    0    0    0    0    0    0    0    0\n",
      "    0    0    0    0    0    0    0    0    0    0    0    0    0    0\n",
      "    0    0    0    0    0    0    0    0    0    0    0    0    0    0\n",
      "    0    0    0    0    0    0    0    0    0    0    0    0    0    0\n",
      "    0    0    0    0    0    0    0    0    0    0    0    0    0    0\n",
      "    0    0    0    0    0    0    0    0    0    0    0    0    0    0\n",
      "    0    0    0    0    0    0    0    0    0    0    0    0    0    0\n",
      "    0    0    0    0    0    0    0    0    0    0    0    0    0    0\n",
      "    0    0    0    0    0    1   59 2677   18    4  200    5 2678  165\n",
      "  745]\n"
     ]
    }
   ],
   "source": [
    "# pad sequences \n",
    "max_sequence_len = max([len(x) for x in input_sequences])\n",
    "input_sequences = np.array(pad_sequences(input_sequences, maxlen=max_sequence_len, padding='pre'))\n",
    "print(input_sequences[2])\n",
    "print(input_sequences[6])"
   ]
  },
  {
   "cell_type": "code",
   "execution_count": 5,
   "metadata": {},
   "outputs": [],
   "source": [
    "# create predictors and label\n",
    "xs, labels = input_sequences[:,:-1],input_sequences[:,-1]\n",
    "ys = tf.keras.utils.to_categorical(labels, num_classes=total_words)"
   ]
  },
  {
   "cell_type": "code",
   "execution_count": 6,
   "metadata": {},
   "outputs": [
    {
     "name": "stdout",
     "output_type": "stream",
     "text": [
      "Epoch 1/20\n",
      "901/901 [==============================] - 155s 169ms/step - loss: 7.3535 - accuracy: 0.0583\n",
      "Epoch 2/20\n",
      "901/901 [==============================] - 160s 178ms/step - loss: 6.3014 - accuracy: 0.1037\n",
      "Epoch 3/20\n",
      "901/901 [==============================] - 176s 195ms/step - loss: 5.4975 - accuracy: 0.1459\n",
      "Epoch 4/20\n",
      "901/901 [==============================] - 156s 173ms/step - loss: 4.7350 - accuracy: 0.1907\n",
      "Epoch 5/20\n",
      "901/901 [==============================] - 151s 168ms/step - loss: 4.0813 - accuracy: 0.2524\n",
      "Epoch 6/20\n",
      "901/901 [==============================] - 199s 221ms/step - loss: 3.6449 - accuracy: 0.3064\n",
      "Epoch 7/20\n",
      "901/901 [==============================] - 163s 181ms/step - loss: 3.5037 - accuracy: 0.3326\n",
      "Epoch 8/20\n",
      "901/901 [==============================] - 166s 184ms/step - loss: 2.8457 - accuracy: 0.4076\n",
      "Epoch 9/20\n",
      "901/901 [==============================] - 185s 206ms/step - loss: 2.5911 - accuracy: 0.4484\n",
      "Epoch 10/20\n",
      "901/901 [==============================] - 159s 176ms/step - loss: 2.3773 - accuracy: 0.4805\n",
      "Epoch 11/20\n",
      "901/901 [==============================] - 153s 170ms/step - loss: 2.1985 - accuracy: 0.5114\n",
      "Epoch 12/20\n",
      "901/901 [==============================] - 203s 225ms/step - loss: 2.0865 - accuracy: 0.5272\n",
      "Epoch 13/20\n",
      "901/901 [==============================] - 181s 200ms/step - loss: 1.9803 - accuracy: 0.5462\n",
      "Epoch 14/20\n",
      "901/901 [==============================] - 192s 214ms/step - loss: 1.8728 - accuracy: 0.5661\n",
      "Epoch 15/20\n",
      "901/901 [==============================] - 164s 183ms/step - loss: 1.7935 - accuracy: 0.5763\n",
      "Epoch 16/20\n",
      "901/901 [==============================] - 156s 173ms/step - loss: 1.7233 - accuracy: 0.5886\n",
      "Epoch 17/20\n",
      "901/901 [==============================] - 149s 165ms/step - loss: 1.6442 - accuracy: 0.6071\n",
      "Epoch 18/20\n",
      "901/901 [==============================] - 153s 170ms/step - loss: 1.6120 - accuracy: 0.6118\n",
      "Epoch 19/20\n",
      "901/901 [==============================] - 149s 165ms/step - loss: 1.5450 - accuracy: 0.6266\n",
      "Epoch 20/20\n",
      "901/901 [==============================] - 226s 251ms/step - loss: 1.5325 - accuracy: 0.6263\n",
      "<tensorflow.python.keras.engine.sequential.Sequential object at 0x7fed4b8889a0>\n"
     ]
    }
   ],
   "source": [
    "model = Sequential()\n",
    "model.add(Embedding(total_words, 50, input_length=max_sequence_len-1))\n",
    "model.add(Bidirectional(LSTM(50)))\n",
    "model.add(Dense(total_words, activation='softmax'))\n",
    "adam = Adam(lr=0.01)\n",
    "model.compile(loss='categorical_crossentropy', optimizer=adam, metrics=['accuracy'])\n",
    "history = model.fit(xs, ys, epochs=20, verbose=1)\n",
    "print(model)"
   ]
  },
  {
   "cell_type": "code",
   "execution_count": 7,
   "metadata": {},
   "outputs": [
    {
     "name": "stderr",
     "output_type": "stream",
     "text": [
      "WARNING:absl:Found untraced functions such as lstm_cell_1_layer_call_fn, lstm_cell_1_layer_call_and_return_conditional_losses, lstm_cell_2_layer_call_fn, lstm_cell_2_layer_call_and_return_conditional_losses, lstm_cell_1_layer_call_fn while saving (showing 5 of 10). These functions will not be directly callable after loading.\n",
      "WARNING:absl:Found untraced functions such as lstm_cell_1_layer_call_fn, lstm_cell_1_layer_call_and_return_conditional_losses, lstm_cell_2_layer_call_fn, lstm_cell_2_layer_call_and_return_conditional_losses, lstm_cell_1_layer_call_fn while saving (showing 5 of 10). These functions will not be directly callable after loading.\n"
     ]
    },
    {
     "name": "stdout",
     "output_type": "stream",
     "text": [
      "INFO:tensorflow:Assets written to: storygenerator.model/assets\n"
     ]
    },
    {
     "name": "stderr",
     "output_type": "stream",
     "text": [
      "INFO:tensorflow:Assets written to: storygenerator.model/assets\n"
     ]
    }
   ],
   "source": [
    "model.save('storygenerator.model')"
   ]
  },
  {
   "cell_type": "code",
   "execution_count": 12,
   "metadata": {},
   "outputs": [
    {
     "name": "stdout",
     "output_type": "stream",
     "text": [
      "Model: \"sequential\"\n",
      "_________________________________________________________________\n",
      "Layer (type)                 Output Shape              Param #   \n",
      "=================================================================\n",
      "embedding (Embedding)        (None, 280, 50)           291750    \n",
      "_________________________________________________________________\n",
      "bidirectional (Bidirectional (None, 100)               40400     \n",
      "_________________________________________________________________\n",
      "dense (Dense)                (None, 5835)              589335    \n",
      "=================================================================\n",
      "Total params: 921,485\n",
      "Trainable params: 921,485\n",
      "Non-trainable params: 0\n",
      "_________________________________________________________________\n"
     ]
    }
   ],
   "source": [
    "model.summary()"
   ]
  },
  {
   "cell_type": "code",
   "execution_count": 8,
   "metadata": {},
   "outputs": [],
   "source": [
    "import matplotlib.pyplot as plt\n",
    "def plot_graphs(history, string):\n",
    "    plt.plot(history.history[string])\n",
    "    plt.xlabel(\"Epochs\")\n",
    "    plt.ylabel(string)\n",
    "    plt.show()"
   ]
  },
  {
   "cell_type": "code",
   "execution_count": 9,
   "metadata": {},
   "outputs": [
    {
     "data": {
      "image/png": "[encoded data removed]",
      "text/plain": [
       "<Figure size 432x288 with 1 Axes>"
      ]
     },
     "metadata": {
      "needs_background": "light"
     },
     "output_type": "display_data"
    }
   ],
   "source": [
    "plot_graphs(history, 'accuracy')"
   ]
  },
  {
   "cell_type": "code",
   "execution_count": 14,
   "metadata": {},
   "outputs": [
    {
     "name": "stdout",
     "output_type": "stream",
     "text": [
      "What about yesterday? computer color schemes and forth off the play despite this company near his soldier who passes through fort polk and tigerland will be sent to accept the production by utilizing cheap accessories and recycled parts worse yet the money is bait parker and longbaugh resolve to fire the cannon will damage earth's gaia a young coast who is welcomed back\n"
     ]
    }
   ],
   "source": [
    "seed = \"What about yesterday?\"\n",
    "next_word = 60\n",
    "  \n",
    "for _ in range(next_word):\n",
    "    tokens = tokenizer.texts_to_sequences([seed])[0]\n",
    "    tokens = pad_sequences([tokens], maxlen=max_sequence_len-1, padding='pre')\n",
    "    predicted = model.predict_classes(tokens, verbose=0)\n",
    "    output = \"\"\n",
    "    for word, index in tokenizer.word_index.items():\n",
    "        if index == predicted:\n",
    "            output = word\n",
    "            break\n",
    "    seed += \" \" + output\n",
    "print(seed)"
   ]
  }
 ],
 "metadata": {
  "kernelspec": {
   "display_name": "Python 3",
   "language": "python",
   "name": "python3"
  },
  "language_info": {
   "codemirror_mode": {
    "name": "ipython",
    "version": 3
   },
   "file_extension": ".py",
   "mimetype": "text/x-python",
   "name": "python",
   "nbconvert_exporter": "python",
   "pygments_lexer": "ipython3",
   "version": "3.8.5"
  }
 },
 "nbformat": 4,
 "nbformat_minor": 4
}
