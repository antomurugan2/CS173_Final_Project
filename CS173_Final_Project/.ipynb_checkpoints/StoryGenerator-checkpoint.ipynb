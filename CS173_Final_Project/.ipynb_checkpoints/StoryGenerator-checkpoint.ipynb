{
 "cells": [
  {
   "cell_type": "markdown",
   "metadata": {},
   "source": [
    "# CS173: Natural Language Processing - Final Project\n",
    "Name: Anto Murugan<br>\n",
    "SID: 862154748<br>\n",
    "Project: Story generation<br>\n",
    "Data acquired from: https://www.kaggle.com/revanth9/wikipediaplotdata"
   ]
  },
  {
   "cell_type": "code",
   "execution_count": 1,
   "metadata": {},
   "outputs": [],
   "source": [
    "import tensorflow as tf\n",
    "from tensorflow.keras.preprocessing.text import Tokenizer\n",
    "from tensorflow.keras.preprocessing.sequence import pad_sequences\n",
    "import numpy as np"
   ]
  },
  {
   "cell_type": "code",
   "execution_count": 2,
   "metadata": {},
   "outputs": [],
   "source": [
    "# Import pre-trained model storygenerator.model\n",
    "model = tf.keras.models.load_model('storygenerator.model')"
   ]
  },
  {
   "cell_type": "code",
   "execution_count": 3,
   "metadata": {},
   "outputs": [
    {
     "name": "stdout",
     "output_type": "stream",
     "text": [
      "Enter the seed text: Yesterday, I had pancakes\n",
      "Enter the number of words to generate: 50\n"
     ]
    },
    {
     "name": "stderr",
     "output_type": "stream",
     "text": [
      "/opt/anaconda3/lib/python3.8/site-packages/tensorflow/python/keras/engine/sequential.py:450: UserWarning: `model.predict_classes()` is deprecated and will be removed after 2021-01-01. Please use instead:* `np.argmax(model.predict(x), axis=-1)`,   if your model does multi-class classification   (e.g. if it uses a `softmax` last-layer activation).* `(model.predict(x) > 0.5).astype(\"int32\")`,   if your model does binary classification   (e.g. if it uses a `sigmoid` last-layer activation).\n",
      "  warnings.warn('`model.predict_classes()` is deprecated and '\n"
     ]
    },
    {
     "name": "stdout",
     "output_type": "stream",
     "text": [
      "Yesterday, I had pancakes takes a trap for kelly's singing for him at the fraternity party coinciding with the massacre's 25th anniversary sasha gets annoyed at the fourth of july lecter subdues and drugs him home and invites him to find him calling himself mr glass a pole to bait vasily in a relationship\n"
     ]
    }
   ],
   "source": [
    "tokenizer = Tokenizer()\n",
    "stories = open(\"stories.txt\").read()\n",
    "corpus = stories.lower().split(\"\\n\")\n",
    "tokenizer.fit_on_texts(corpus)\n",
    "input_sequences = []\n",
    "for line in corpus:\n",
    "    token_list = tokenizer.texts_to_sequences([line])[0]\n",
    "    for i in range(1, len(token_list)):\n",
    "        n_gram_sequence = token_list[:i+3]\n",
    "        input_sequences.append(n_gram_sequence)\n",
    "\n",
    "max_sequence_len = max([len(x) for x in input_sequences])\n",
    "input_sequences = np.array(pad_sequences(input_sequences, maxlen=max_sequence_len, padding='pre'))\n",
    "\n",
    "seed = input(\"Enter the seed text: \")\n",
    "next_word = int(input(\"Enter the number of words to generate: \"))\n",
    "  \n",
    "for _ in range(next_word):\n",
    "    tokens = tokenizer.texts_to_sequences([seed])[0]\n",
    "    tokens = pad_sequences([tokens], maxlen=max_sequence_len-1, padding='pre')\n",
    "    predicted = model.predict_classes(tokens, verbose=0)\n",
    "    output = \"\"\n",
    "    for word, index in tokenizer.word_index.items():\n",
    "        if index == predicted:\n",
    "            output = word\n",
    "            break\n",
    "    seed += \" \" + output\n",
    "print(seed)"
   ]
  }
 ],
 "metadata": {
  "kernelspec": {
   "display_name": "Python 3",
   "language": "python",
   "name": "python3"
  },
  "language_info": {
   "codemirror_mode": {
    "name": "ipython",
    "version": 3
   },
   "file_extension": ".py",
   "mimetype": "text/x-python",
   "name": "python",
   "nbconvert_exporter": "python",
   "pygments_lexer": "ipython3",
   "version": "3.8.5"
  }
 },
 "nbformat": 4,
 "nbformat_minor": 4
}
